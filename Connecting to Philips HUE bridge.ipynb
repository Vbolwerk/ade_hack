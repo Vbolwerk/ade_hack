{
 "cells": [
  {
   "cell_type": "code",
   "execution_count": null,
   "metadata": {},
   "outputs": [],
   "source": [
    "import discoverhue\n",
    "found = discoverhue.find_bridges()\n",
    "for bridge in found:\n",
    "    print('    Bridge ID {br} at {ip}'.format(br=bridge, ip=found[bridge]))"
   ]
  },
  {
   "cell_type": "code",
   "execution_count": null,
   "metadata": {},
   "outputs": [],
   "source": [
    "# using a list, matches will be removed from search_id\n",
    "search_id = ['0017884e7dad', '001788102201']\n",
    "found = discoverhue.find_bridges(search_id)\n",
    "\n",
    "# using a set, matches will be removed from search_id\n",
    "search_id = {'0017884e7dad', '001788102201'}\n",
    "found = discoverhue.find_bridges(search_id)\n",
    "\n",
    "# using a tuple, immutable so matches will not be removed\n",
    "search_id = ('0017884e7dad', '001788102201')\n",
    "found = discoverhue.find_bridges(search_id)"
   ]
  },
  {
   "cell_type": "code",
   "execution_count": null,
   "metadata": {},
   "outputs": [],
   "source": [
    "found = discoverhue.find_bridges('001788102201')\n",
    "found.lower()"
   ]
  },
  {
   "cell_type": "code",
   "execution_count": null,
   "metadata": {},
   "outputs": [],
   "source": [
    "discoverhue.find_bridges({'0017884e7dad':'192.168.0.1',\n",
    "                              '001788102201':'192.168.0.2'})\n",
    "{'0017884e7dad': 'http://192.168.0.27:80/'}"
   ]
  },
  {
   "cell_type": "code",
   "execution_count": null,
   "metadata": {},
   "outputs": [],
   "source": []
  }
 ],
 "metadata": {
  "kernelspec": {
   "display_name": "Python 3",
   "language": "python",
   "name": "python3"
  },
  "language_info": {
   "codemirror_mode": {
    "name": "ipython",
    "version": 3
   },
   "file_extension": ".py",
   "mimetype": "text/x-python",
   "name": "python",
   "nbconvert_exporter": "python",
   "pygments_lexer": "ipython3",
   "version": "3.6.1"
  }
 },
 "nbformat": 4,
 "nbformat_minor": 2
}
