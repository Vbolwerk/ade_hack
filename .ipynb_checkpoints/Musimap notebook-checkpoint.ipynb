{
 "cells": [
  {
   "cell_type": "markdown",
   "metadata": {},
   "source": [
    "## Musimap API v 3.0 Turorial in Python \n",
    "\n",
    "Documentation: https://developers.musimap.net/documentation/api/usage/introduction\n",
    "\n",
    "latest update: 30.09.2017"
   ]
  },
  {
   "cell_type": "code",
   "execution_count": null,
   "metadata": {},
   "outputs": [],
   "source": [
    "import requests\n",
    "import base64\n",
    "import pandas as pd"
   ]
  },
  {
   "cell_type": "code",
   "execution_count": null,
   "metadata": {},
   "outputs": [],
   "source": [
    "base = 'https://api.musimap.net/'"
   ]
  },
  {
   "cell_type": "markdown",
   "metadata": {},
   "source": [
    "#### Request your credentials: https://developers.musimap.net/account/clients \n",
    "\n",
    "click 'Add a client' and request a client_id and a client_secret which you have to set below:\n"
   ]
  },
  {
   "cell_type": "code",
   "execution_count": null,
   "metadata": {},
   "outputs": [],
   "source": [
    "# ADD YOUR CLIENT ID AND SECRET HERE\n",
    "client_id = 'z15pn8s1j4kpi8d1'\n",
    "client_secret = 'dywd5rn1ys715ed45y8hua8lo5mxwu16'"
   ]
  },
  {
   "cell_type": "markdown",
   "metadata": {},
   "source": [
    "## Authenticate \n",
    "\n",
    "Get an access token. Needed for all further requests."
   ]
  },
  {
   "cell_type": "code",
   "execution_count": null,
   "metadata": {},
   "outputs": [],
   "source": [
    "call = 'oauth/access_token'\n",
    "params = {'grant_type': 'client_credentials', 'client_id': client_id, 'client_secret': client_secret} \n",
    "resp = requests.post(base + call, params)\n",
    "resp.status_code"
   ]
  },
  {
   "cell_type": "code",
   "execution_count": null,
   "metadata": {},
   "outputs": [],
   "source": [
    "resp.text"
   ]
  },
  {
   "cell_type": "code",
   "execution_count": null,
   "metadata": {},
   "outputs": [],
   "source": [
    "json = resp.json()\n",
    "token = json['access_token']\n",
    "token"
   ]
  },
  {
   "cell_type": "markdown",
   "metadata": {},
   "source": [
    "#### OAuth Header "
   ]
  },
  {
   "cell_type": "code",
   "execution_count": null,
   "metadata": {},
   "outputs": [],
   "source": [
    "token_enc = base64.standard_b64encode((bytes(token, 'utf-8')))"
   ]
  },
  {
   "cell_type": "code",
   "execution_count": null,
   "metadata": {},
   "outputs": [],
   "source": [
    "# Some trouble with b64 encoding\n",
    "token_enc = str(token_enc)[2:-1]"
   ]
  },
  {
   "cell_type": "code",
   "execution_count": null,
   "metadata": {},
   "outputs": [],
   "source": [
    "# we add this token to extended HTTP request headers (used in all API requests below)\n",
    "headers = {'Authorization': 'Bearer ' + token_enc}\n",
    "headers"
   ]
  },
  {
   "cell_type": "markdown",
   "metadata": {},
   "source": [
    "## Doing search on artists"
   ]
  },
  {
   "cell_type": "code",
   "execution_count": null,
   "metadata": {},
   "outputs": [],
   "source": [
    "call = 'artists/search'\n",
    "\n",
    "artist = 'Rihanna'\n",
    "#artist = 'Adele' # note: other artists come first, the real Adele is #5\n",
    "\n",
    "# SEARCH BY UID NOT POSSIBLE IN V 2.0\n",
    "#artist_uid = '07CCB340-9C88-FE9C-0258-0398531415AF' # Rihanna (use above query to get the UID)\n",
    "\n",
    "# output parameter controls the result and is one of the following:\n",
    "# details, properties, moods, influences, memberships, discography, social (= ids of other web services)\n",
    "# (can be combined in comma-separated way)\n",
    "\n",
    "params = {'nickname': artist, 'output': 'details', 'access_token': token}\n",
    "#params = {'nickname': artist, 'output': 'rhythmicmoods'}\n",
    "\n",
    "resp = requests.get(base + call, params, headers=headers)\n",
    "resp.status_code"
   ]
  },
  {
   "cell_type": "code",
   "execution_count": null,
   "metadata": {},
   "outputs": [],
   "source": [
    "json = resp.json()\n",
    "results = json['results']\n",
    "results"
   ]
  },
  {
   "cell_type": "code",
   "execution_count": null,
   "metadata": {},
   "outputs": [],
   "source": [
    "json = resp.json()\n",
    "results = json['results']\n",
    "for r in results:\n",
    "    print (str(r['score']) + '\\t' + r['uid'] + '\\t' + r['nickname'])"
   ]
  },
  {
   "cell_type": "code",
   "execution_count": null,
   "metadata": {},
   "outputs": [],
   "source": [
    "artists = pd.read_excel('DGTL_lineup_2016.xlsx', encoding='latin_1')['artist']"
   ]
  },
  {
   "cell_type": "code",
   "execution_count": null,
   "metadata": {},
   "outputs": [],
   "source": [
    "call = 'artists/search'\n",
    "\n",
    "\n",
    "df_moods = pd.DataFrame()\n",
    "\n",
    "\n",
    "for artist in artists:\n",
    "#artist = 'Adele' # note: other artists come first, the real Adele is #5\n",
    "\n",
    "# SEARCH BY UID NOT POSSIBLE IN V 2.0\n",
    "#artist_uid = '07CCB340-9C88-FE9C-0258-0398531415AF' # Rihanna (use above query to get the UID)\n",
    "\n",
    "# output parameter controls the result and is one of the following:\n",
    "# details, properties, moods, influences, memberships, discography, social (= ids of other web services)\n",
    "# (can be combined in comma-separated way)\n",
    "\n",
    "    params = {'nickname': artist, 'output': 'moods', 'access_token': token}\n",
    "#params = {'nickname': artist, 'output': 'rhythmicmoods'}\n",
    "\n",
    "    #Build dataframe with every mood by artist, and its importance\n",
    "    resp = requests.get(base + call, params, headers=headers)\n",
    "    \n",
    "    json = resp.json()\n",
    "    results = json['results']\n",
    "    index = len(df_moods)\n",
    "    for r in results:\n",
    "        \n",
    "        if r['score']==100:\n",
    "            df_moods.loc[index, 'artist']= artist\n",
    "            for mood in r['moods']:\n",
    "                mood_name = mood['name']\n",
    "                mood_score = mood['importance']\n",
    "                df_moods.loc[index, mood_name]= mood_score    \n",
    "            break\n",
    "        else:\n",
    "            df_moods.loc[index, 'artist']= artist\n",
    "            break\n",
    "        \n",
    "        "
   ]
  },
  {
   "cell_type": "code",
   "execution_count": null,
   "metadata": {},
   "outputs": [],
   "source": [
    "# Keep only moods that have a value for more than 10 artists\n",
    "df_moods = df_moods.loc[:, df_moods.count().sort_values()>10]"
   ]
  },
  {
   "cell_type": "code",
   "execution_count": null,
   "metadata": {},
   "outputs": [],
   "source": [
    "# Drop artists that have no values for any of these columns\n",
    "df_moods = df_moods.dropna(axis =0, how='all', subset= df_moods.columns[1:])"
   ]
  },
  {
   "cell_type": "code",
   "execution_count": null,
   "metadata": {},
   "outputs": [],
   "source": [
    "# Replace missing values with 0\n",
    "df_moods = df_moods.fillna(value = 0)"
   ]
  },
  {
   "cell_type": "code",
   "execution_count": null,
   "metadata": {},
   "outputs": [],
   "source": [
    "df_moods"
   ]
  },
  {
   "cell_type": "code",
   "execution_count": null,
   "metadata": {},
   "outputs": [],
   "source": [
    "df_moods.to_json('moods_by_dj_DGTL_2016.json')"
   ]
  },
  {
   "cell_type": "code",
   "execution_count": null,
   "metadata": {},
   "outputs": [],
   "source": []
  }
 ],
 "metadata": {
  "kernelspec": {
   "display_name": "Python 3",
   "language": "python",
   "name": "python3"
  },
  "language_info": {
   "codemirror_mode": {
    "name": "ipython",
    "version": 3
   },
   "file_extension": ".py",
   "mimetype": "text/x-python",
   "name": "python",
   "nbconvert_exporter": "python",
   "pygments_lexer": "ipython3",
   "version": "3.6.1"
  }
 },
 "nbformat": 4,
 "nbformat_minor": 2
}
